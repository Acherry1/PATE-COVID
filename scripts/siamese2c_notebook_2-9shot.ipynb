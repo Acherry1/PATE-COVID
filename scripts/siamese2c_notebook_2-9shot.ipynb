{
 "cells": [
  {
   "cell_type": "code",
   "execution_count": 1,
   "id": "b65c72ff",
   "metadata": {},
   "outputs": [],
   "source": [
    "# -*- coding: utf-8 -*-\n",
    "import utils as utils\n",
    "\n",
    "import tensorflow as tf\n",
    "from tensorflow.keras.layers import Dense, Input, Flatten, Lambda\n",
    "from tensorflow.keras.models import Model\n",
    "from tensorflow.keras.optimizers import Adam\n",
    "from sklearn.metrics import accuracy_score, precision_score, recall_score, roc_auc_score, f1_score\n",
    "\n",
    "from sklearn.metrics import confusion_matrix\n",
    "from sklearn.metrics import ConfusionMatrixDisplay\n",
    "\n",
    "import numpy as np\n",
    "import os\n",
    "\n",
    "from tensorflow.keras.callbacks import EarlyStopping, ModelCheckpoint, ReduceLROnPlateau\n",
    "import matplotlib.pyplot as plt\n",
    "import logging\n",
    "\n",
    "logger = tf.get_logger()\n",
    "logger.setLevel(logging.ERROR)"
   ]
  },
  {
   "cell_type": "code",
   "execution_count": 2,
   "id": "95a16c52",
   "metadata": {},
   "outputs": [],
   "source": [
    "all_teachers=3\n",
    "teacher_id = 2\n",
    "epochs = 175\n",
    "shot = 9\n",
    "SIAMESE_MODEL_NAME = '..\\scripts\\models_h5\\siamese_network2c-t{}_{}notebook.h5'.format(teacher_id,shot)\n",
    "EMBEDDING_MODEL_NAME = 'embedding_network2w_0801.h5'\n",
    "if os.path.exists(SIAMESE_MODEL_NAME):\n",
    "    os.remove(SIAMESE_MODEL_NAME)"
   ]
  },
  {
   "cell_type": "code",
   "execution_count": 3,
   "id": "8b86c631",
   "metadata": {},
   "outputs": [
    {
     "name": "stdout",
     "output_type": "stream",
     "text": [
      "Found 18 images belonging to 2 classes.\n",
      "The train set contains 18\n"
     ]
    }
   ],
   "source": [
    "base_dir = r\"..\\scripts\\dataset\"\n",
    "dataset_path = os.path.join( r\"..\\scripts\\auto_datasets\", r\"auto_t{}_{}\\t{}-{}\".format(all_teachers,shot,teacher_id, shot))\n",
    "result_file_path = os.path.join(base_dir, r\"true_result_xlsx\")\n",
    "pre_results_path = os.path.join(base_dir, r\"teacher_results_xlsx\",\"result_{}_{}\".format(all_teachers,shot))\n",
    "train_image_list, train_y_list = utils.load_images(dataset_path, 'train', (100, 100))\n",
    "print(\"The train set contains\", len(train_image_list))"
   ]
  },
  {
   "cell_type": "code",
   "execution_count": 4,
   "id": "8942f300",
   "metadata": {},
   "outputs": [
    {
     "name": "stdout",
     "output_type": "stream",
     "text": [
      "Found 1200 images belonging to 2 classes.\n",
      "The valid set contains 1200\n"
     ]
    }
   ],
   "source": [
    "test_path = r\"../scripts/dataset/pretrain_2c_0727/\"\n",
    "valid_image_list, valid_y_list = utils.load_images(test_path, 'valid', (100, 100))\n",
    "print(\"The valid set contains\", len(valid_image_list))"
   ]
  },
  {
   "cell_type": "code",
   "execution_count": 5,
   "id": "08ff552f",
   "metadata": {},
   "outputs": [
    {
     "name": "stdout",
     "output_type": "stream",
     "text": [
      "Found 1200 images belonging to 2 classes.\n",
      "The test set contains 1200\n"
     ]
    }
   ],
   "source": [
    "test_image_list, test_y_list = utils.load_images(test_path, 'test', (100, 100))\n",
    "print(\"The test set contains\", len(test_image_list))"
   ]
  },
  {
   "cell_type": "code",
   "execution_count": 6,
   "id": "369794ba",
   "metadata": {},
   "outputs": [
    {
     "name": "stdout",
     "output_type": "stream",
     "text": [
      "num_classes: 2\n",
      "num_classes: 2\n",
      "num_classes: 2\n"
     ]
    }
   ],
   "source": [
    "# make train pairs\n",
    "pairs_train, labels_train, source_labels_train, true_labels_train = utils.make_pairs(train_image_list, train_y_list)\n",
    "\n",
    "# make validation pairs\n",
    "pairs_val, labels_val, source_labels_val, true_labels_val = utils.make_pairs(valid_image_list, valid_y_list)\n",
    "\n",
    "# make validation pairs\n",
    "pairs_test, labels_test, source_labels_test, true_labels_test = utils.make_pairs(test_image_list, test_y_list)"
   ]
  },
  {
   "cell_type": "code",
   "execution_count": 7,
   "id": "8959873c",
   "metadata": {},
   "outputs": [],
   "source": [
    "import pandas as pd"
   ]
  },
  {
   "cell_type": "code",
   "execution_count": 8,
   "id": "86c8f79b",
   "metadata": {},
   "outputs": [
    {
     "name": "stdout",
     "output_type": "stream",
     "text": [
      "number of pairs for train 36\n",
      "number of pairs for validation 2400\n",
      "number of pairs for test 2400\n"
     ]
    }
   ],
   "source": [
    "x_train_1 = pairs_train[:, 0]  # x1(如何给标签带上)\n",
    "x_train_2 = pairs_train[:, 1]  # x2\n",
    "print(\"number of pairs for train\", np.shape(x_train_1)[0])\n",
    "\n",
    "x_val_1 = pairs_val[:, 0]\n",
    "x_val_2 = pairs_val[:, 1]\n",
    "print(\"number of pairs for validation\", np.shape(x_val_1)[0])\n",
    "\n",
    "x_test_1 = pairs_test[:, 0]\n",
    "x_test_2 = pairs_test[:, 1]\n",
    "# print(x_test_1)\n",
    "print(\"number of pairs for test\", np.shape(x_test_1)[0])"
   ]
  },
  {
   "cell_type": "code",
   "execution_count": 9,
   "id": "6955c250",
   "metadata": {},
   "outputs": [],
   "source": [
    "if not os.path.exists(result_file_path):\n",
    "    os.makedirs(result_file_path)\n",
    "result_xlsx=os.path.join(result_file_path,\"true_labels.xlsx\")\n",
    "if not os.path.exists(result_xlsx):\n",
    "    test_1_image_list = x_test_1.tolist()\n",
    "    df = pd.DataFrame({\"image\": test_1_image_list, \"true_label\": true_labels_test})\n",
    "    df.to_excel(result_xlsx, index=False)\n",
    "    df = pd.read_excel(result_xlsx)\n",
    "    df.drop_duplicates(inplace=True)\n",
    "    df.to_excel(result_xlsx, index=False)"
   ]
  },
  {
   "cell_type": "code",
   "execution_count": 10,
   "id": "80363b42",
   "metadata": {},
   "outputs": [
    {
     "name": "stdout",
     "output_type": "stream",
     "text": [
      "Model: \"model\"\n",
      "__________________________________________________________________________________________________\n",
      " Layer (type)                   Output Shape         Param #     Connected to                     \n",
      "==================================================================================================\n",
      " input_1 (InputLayer)           [(None, 100, 100, 3  0           []                               \n",
      "                                )]                                                                \n",
      "                                                                                                  \n",
      " input_2 (InputLayer)           [(None, 100, 100, 3  0           []                               \n",
      "                                )]                                                                \n",
      "                                                                                                  \n",
      " sequential (Sequential)        (None, 5120)         14739266    ['input_1[0][0]',                \n",
      "                                                                  'input_2[0][0]']                \n",
      "                                                                                                  \n",
      " lambda (Lambda)                (None, 1)            0           ['sequential[0][0]',             \n",
      "                                                                  'sequential[1][0]']             \n",
      "                                                                                                  \n",
      " dense (Dense)                  (None, 1)            2           ['lambda[0][0]']                 \n",
      "                                                                                                  \n",
      "==================================================================================================\n",
      "Total params: 14,739,268\n",
      "Trainable params: 15,362\n",
      "Non-trainable params: 14,723,906\n",
      "__________________________________________________________________________________________________\n"
     ]
    }
   ],
   "source": [
    "tf.compat.v1.reset_default_graph()\n",
    "\n",
    "input_1 = Input((100, 100, 3))\n",
    "input_2 = Input((100, 100, 3))\n",
    "\n",
    "embedding_network = tf.keras.models.load_model(EMBEDDING_MODEL_NAME)\n",
    "embedding_network.trainable = False\n",
    "\n",
    "model = tf.keras.Sequential()\n",
    "for layer in embedding_network.layers:\n",
    "    model.add(layer)\n",
    "\n",
    "model.add(Flatten(name='flat'))\n",
    "model.add(Dense(5120, name='den', activation='sigmoid', kernel_regularizer='l2'))\n",
    "\n",
    "output_1 = model(input_1)\n",
    "output_2 = model(input_2)\n",
    "\n",
    "merge_layer = Lambda(utils.manhattan_distance)([output_1, output_2])\n",
    "output_layer = Dense(1, activation=\"sigmoid\")(merge_layer)\n",
    "siamese = Model(inputs=[input_1, input_2], outputs=output_layer)\n",
    "siamese.summary()"
   ]
  },
  {
   "cell_type": "code",
   "execution_count": 11,
   "id": "2c9f7dc9",
   "metadata": {},
   "outputs": [],
   "source": [
    "reduce_lr = ReduceLROnPlateau(monitor='val_loss', factor=0.2, patience=5, min_lr=0.00001)\n",
    "\n",
    "early_stopping = EarlyStopping(monitor='val_loss', patience=10, verbose=1, min_delta=0.0001)\n",
    "\n",
    "checkpointer = ModelCheckpoint(filepath=SIAMESE_MODEL_NAME, verbose=1,\n",
    "                               save_best_only=True)"
   ]
  },
  {
   "cell_type": "code",
   "execution_count": 12,
   "id": "d5b049d6",
   "metadata": {},
   "outputs": [
    {
     "name": "stdout",
     "output_type": "stream",
     "text": [
      "Model: \"model\"\n",
      "__________________________________________________________________________________________________\n",
      " Layer (type)                   Output Shape         Param #     Connected to                     \n",
      "==================================================================================================\n",
      " input_1 (InputLayer)           [(None, 100, 100, 3  0           []                               \n",
      "                                )]                                                                \n",
      "                                                                                                  \n",
      " input_2 (InputLayer)           [(None, 100, 100, 3  0           []                               \n",
      "                                )]                                                                \n",
      "                                                                                                  \n",
      " sequential (Sequential)        (None, 5120)         14739266    ['input_1[0][0]',                \n",
      "                                                                  'input_2[0][0]']                \n",
      "                                                                                                  \n",
      " lambda (Lambda)                (None, 1)            0           ['sequential[0][0]',             \n",
      "                                                                  'sequential[1][0]']             \n",
      "                                                                                                  \n",
      " dense (Dense)                  (None, 1)            2           ['lambda[0][0]']                 \n",
      "                                                                                                  \n",
      "==================================================================================================\n",
      "Total params: 14,739,268\n",
      "Trainable params: 15,362\n",
      "Non-trainable params: 14,723,906\n",
      "__________________________________________________________________________________________________\n",
      "Epoch 1/175\n",
      "36/36 [==============================] - ETA: 0s - loss: 0.2115 - accuracy: 0.6389\n",
      "Epoch 00001: val_loss improved from inf to 0.28750, saving model to ..\\scripts\\models_h5\\siamese_network2c-t2_9notebook.h5\n",
      "36/36 [==============================] - 372s 10s/step - loss: 0.2115 - accuracy: 0.6389 - val_loss: 0.2875 - val_accuracy: 0.5208 - lr: 1.0000e-04\n",
      "Epoch 2/175\n",
      "36/36 [==============================] - ETA: 0s - loss: 0.1971 - accuracy: 0.6389\n",
      "Epoch 00002: val_loss improved from 0.28750 to 0.27129, saving model to ..\\scripts\\models_h5\\siamese_network2c-t2_9notebook.h5\n",
      "36/36 [==============================] - 456s 13s/step - loss: 0.1971 - accuracy: 0.6389 - val_loss: 0.2713 - val_accuracy: 0.5375 - lr: 1.0000e-04\n",
      "Epoch 3/175\n",
      "36/36 [==============================] - ETA: 0s - loss: 0.1837 - accuracy: 0.6667\n",
      "Epoch 00003: val_loss improved from 0.27129 to 0.25562, saving model to ..\\scripts\\models_h5\\siamese_network2c-t2_9notebook.h5\n",
      "36/36 [==============================] - 422s 12s/step - loss: 0.1837 - accuracy: 0.6667 - val_loss: 0.2556 - val_accuracy: 0.5604 - lr: 1.0000e-04\n",
      "Epoch 4/175\n",
      "36/36 [==============================] - ETA: 0s - loss: 0.1717 - accuracy: 0.6667\n",
      "Epoch 00004: val_loss improved from 0.25562 to 0.24270, saving model to ..\\scripts\\models_h5\\siamese_network2c-t2_9notebook.h5\n",
      "36/36 [==============================] - 437s 12s/step - loss: 0.1717 - accuracy: 0.6667 - val_loss: 0.2427 - val_accuracy: 0.5767 - lr: 1.0000e-04\n",
      "Epoch 5/175\n",
      "36/36 [==============================] - ETA: 0s - loss: 0.1622 - accuracy: 0.6667\n",
      "Epoch 00005: val_loss improved from 0.24270 to 0.22834, saving model to ..\\scripts\\models_h5\\siamese_network2c-t2_9notebook.h5\n",
      "36/36 [==============================] - 644s 18s/step - loss: 0.1622 - accuracy: 0.6667 - val_loss: 0.2283 - val_accuracy: 0.5975 - lr: 1.0000e-04\n",
      "Epoch 6/175\n",
      "36/36 [==============================] - ETA: 0s - loss: 0.1549 - accuracy: 0.6667\n",
      "Epoch 00006: val_loss improved from 0.22834 to 0.21574, saving model to ..\\scripts\\models_h5\\siamese_network2c-t2_9notebook.h5\n",
      "36/36 [==============================] - 675s 19s/step - loss: 0.1549 - accuracy: 0.6667 - val_loss: 0.2157 - val_accuracy: 0.6137 - lr: 1.0000e-04\n",
      "Epoch 7/175\n",
      "36/36 [==============================] - ETA: 0s - loss: 0.1512 - accuracy: 0.6944\n",
      "Epoch 00007: val_loss improved from 0.21574 to 0.20698, saving model to ..\\scripts\\models_h5\\siamese_network2c-t2_9notebook.h5\n",
      "36/36 [==============================] - 629s 18s/step - loss: 0.1512 - accuracy: 0.6944 - val_loss: 0.2070 - val_accuracy: 0.6300 - lr: 1.0000e-04\n",
      "Epoch 8/175\n",
      "36/36 [==============================] - ETA: 0s - loss: 0.1490 - accuracy: 0.6944\n",
      "Epoch 00008: val_loss improved from 0.20698 to 0.20531, saving model to ..\\scripts\\models_h5\\siamese_network2c-t2_9notebook.h5\n",
      "36/36 [==============================] - 592s 17s/step - loss: 0.1490 - accuracy: 0.6944 - val_loss: 0.2053 - val_accuracy: 0.6342 - lr: 1.0000e-04\n",
      "Epoch 9/175\n",
      "36/36 [==============================] - ETA: 0s - loss: 0.1478 - accuracy: 0.6944\n",
      "Epoch 00009: val_loss improved from 0.20531 to 0.20487, saving model to ..\\scripts\\models_h5\\siamese_network2c-t2_9notebook.h5\n",
      "36/36 [==============================] - 589s 17s/step - loss: 0.1478 - accuracy: 0.6944 - val_loss: 0.2049 - val_accuracy: 0.6404 - lr: 1.0000e-04\n",
      "Epoch 10/175\n",
      "36/36 [==============================] - ETA: 0s - loss: 0.1463 - accuracy: 0.6944 ETA: 3s - los\n",
      "Epoch 00010: val_loss improved from 0.20487 to 0.20064, saving model to ..\\scripts\\models_h5\\siamese_network2c-t2_9notebook.h5\n",
      "36/36 [==============================] - 587s 17s/step - loss: 0.1463 - accuracy: 0.6944 - val_loss: 0.2006 - val_accuracy: 0.6488 - lr: 1.0000e-04\n",
      "Epoch 11/175\n",
      "36/36 [==============================] - ETA: 0s - loss: 0.1454 - accuracy: 0.6944\n",
      "Epoch 00011: val_loss did not improve from 0.20064\n",
      "36/36 [==============================] - 587s 17s/step - loss: 0.1454 - accuracy: 0.6944 - val_loss: 0.2012 - val_accuracy: 0.6513 - lr: 1.0000e-04\n",
      "Epoch 12/175\n",
      "36/36 [==============================] - ETA: 0s - loss: 0.1442 - accuracy: 0.6944\n",
      "Epoch 00012: val_loss did not improve from 0.20064\n",
      "36/36 [==============================] - 582s 17s/step - loss: 0.1442 - accuracy: 0.6944 - val_loss: 0.2009 - val_accuracy: 0.6542 - lr: 1.0000e-04\n",
      "Epoch 13/175\n",
      "36/36 [==============================] - ETA: 0s - loss: 0.1432 - accuracy: 0.7222\n",
      "Epoch 00013: val_loss improved from 0.20064 to 0.19863, saving model to ..\\scripts\\models_h5\\siamese_network2c-t2_9notebook.h5\n",
      "36/36 [==============================] - 588s 17s/step - loss: 0.1432 - accuracy: 0.7222 - val_loss: 0.1986 - val_accuracy: 0.6596 - lr: 1.0000e-04\n",
      "Epoch 14/175\n",
      "36/36 [==============================] - ETA: 0s - loss: 0.1427 - accuracy: 0.7500\n",
      "Epoch 00014: val_loss improved from 0.19863 to 0.19819, saving model to ..\\scripts\\models_h5\\siamese_network2c-t2_9notebook.h5\n",
      "36/36 [==============================] - 586s 17s/step - loss: 0.1427 - accuracy: 0.7500 - val_loss: 0.1982 - val_accuracy: 0.6642 - lr: 1.0000e-04\n",
      "Epoch 15/175\n",
      "36/36 [==============================] - ETA: 0s - loss: 0.1415 - accuracy: 0.7500\n",
      "Epoch 00015: val_loss did not improve from 0.19819\n",
      "36/36 [==============================] - 586s 17s/step - loss: 0.1415 - accuracy: 0.7500 - val_loss: 0.2000 - val_accuracy: 0.6625 - lr: 1.0000e-04\n",
      "Epoch 16/175\n",
      "36/36 [==============================] - ETA: 0s - loss: 0.1407 - accuracy: 0.7500\n",
      "Epoch 00016: val_loss improved from 0.19819 to 0.19748, saving model to ..\\scripts\\models_h5\\siamese_network2c-t2_9notebook.h5\n",
      "36/36 [==============================] - 586s 17s/step - loss: 0.1407 - accuracy: 0.7500 - val_loss: 0.1975 - val_accuracy: 0.6717 - lr: 1.0000e-04\n",
      "Epoch 17/175\n",
      "36/36 [==============================] - ETA: 0s - loss: 0.1400 - accuracy: 0.7500\n",
      "Epoch 00017: val_loss improved from 0.19748 to 0.19700, saving model to ..\\scripts\\models_h5\\siamese_network2c-t2_9notebook.h5\n",
      "36/36 [==============================] - 588s 17s/step - loss: 0.1400 - accuracy: 0.7500 - val_loss: 0.1970 - val_accuracy: 0.6737 - lr: 1.0000e-04\n",
      "Epoch 18/175\n",
      "36/36 [==============================] - ETA: 0s - loss: 0.1396 - accuracy: 0.7778\n",
      "Epoch 00018: val_loss improved from 0.19700 to 0.19469, saving model to ..\\scripts\\models_h5\\siamese_network2c-t2_9notebook.h5\n"
     ]
    },
    {
     "name": "stdout",
     "output_type": "stream",
     "text": [
      "36/36 [==============================] - 588s 17s/step - loss: 0.1396 - accuracy: 0.7778 - val_loss: 0.1947 - val_accuracy: 0.6812 - lr: 1.0000e-04\n",
      "Epoch 19/175\n",
      "36/36 [==============================] - ETA: 0s - loss: 0.1388 - accuracy: 0.7500\n",
      "Epoch 00019: val_loss improved from 0.19469 to 0.19453, saving model to ..\\scripts\\models_h5\\siamese_network2c-t2_9notebook.h5\n",
      "36/36 [==============================] - 585s 17s/step - loss: 0.1388 - accuracy: 0.7500 - val_loss: 0.1945 - val_accuracy: 0.6821 - lr: 1.0000e-04\n",
      "Epoch 20/175\n",
      "36/36 [==============================] - ETA: 0s - loss: 0.1381 - accuracy: 0.8056\n",
      "Epoch 00020: val_loss improved from 0.19453 to 0.19343, saving model to ..\\scripts\\models_h5\\siamese_network2c-t2_9notebook.h5\n",
      "36/36 [==============================] - 589s 17s/step - loss: 0.1381 - accuracy: 0.8056 - val_loss: 0.1934 - val_accuracy: 0.6867 - lr: 1.0000e-04\n",
      "Epoch 21/175\n",
      "36/36 [==============================] - ETA: 0s - loss: 0.1376 - accuracy: 0.8056\n",
      "Epoch 00021: val_loss did not improve from 0.19343\n",
      "36/36 [==============================] - 583s 17s/step - loss: 0.1376 - accuracy: 0.8056 - val_loss: 0.1951 - val_accuracy: 0.6846 - lr: 1.0000e-04\n",
      "Epoch 22/175\n",
      "36/36 [==============================] - ETA: 0s - loss: 0.1371 - accuracy: 0.8056\n",
      "Epoch 00022: val_loss did not improve from 0.19343\n",
      "36/36 [==============================] - 581s 17s/step - loss: 0.1371 - accuracy: 0.8056 - val_loss: 0.1957 - val_accuracy: 0.6858 - lr: 1.0000e-04\n",
      "Epoch 23/175\n",
      "36/36 [==============================] - ETA: 0s - loss: 0.1363 - accuracy: 0.8056\n",
      "Epoch 00023: val_loss improved from 0.19343 to 0.19243, saving model to ..\\scripts\\models_h5\\siamese_network2c-t2_9notebook.h5\n",
      "36/36 [==============================] - 585s 17s/step - loss: 0.1363 - accuracy: 0.8056 - val_loss: 0.1924 - val_accuracy: 0.6971 - lr: 1.0000e-04\n",
      "Epoch 24/175\n",
      "36/36 [==============================] - ETA: 0s - loss: 0.1361 - accuracy: 0.8333\n",
      "Epoch 00024: val_loss improved from 0.19243 to 0.19163, saving model to ..\\scripts\\models_h5\\siamese_network2c-t2_9notebook.h5\n",
      "36/36 [==============================] - 582s 17s/step - loss: 0.1361 - accuracy: 0.8333 - val_loss: 0.1916 - val_accuracy: 0.6996 - lr: 1.0000e-04\n",
      "Epoch 25/175\n",
      "36/36 [==============================] - ETA: 0s - loss: 0.1355 - accuracy: 0.8333\n",
      "Epoch 00025: val_loss did not improve from 0.19163\n",
      "36/36 [==============================] - 579s 17s/step - loss: 0.1355 - accuracy: 0.8333 - val_loss: 0.1932 - val_accuracy: 0.6988 - lr: 1.0000e-04\n",
      "Epoch 26/175\n",
      "36/36 [==============================] - ETA: 0s - loss: 0.1350 - accuracy: 0.8333\n",
      "Epoch 00026: val_loss did not improve from 0.19163\n",
      "36/36 [==============================] - 587s 17s/step - loss: 0.1350 - accuracy: 0.8333 - val_loss: 0.1925 - val_accuracy: 0.7017 - lr: 1.0000e-04\n",
      "Epoch 27/175\n",
      "36/36 [==============================] - ETA: 0s - loss: 0.1349 - accuracy: 0.8333\n",
      "Epoch 00027: val_loss did not improve from 0.19163\n",
      "36/36 [==============================] - 594s 17s/step - loss: 0.1349 - accuracy: 0.8333 - val_loss: 0.1929 - val_accuracy: 0.7025 - lr: 1.0000e-04\n",
      "Epoch 28/175\n",
      "36/36 [==============================] - ETA: 0s - loss: 0.1342 - accuracy: 0.8333\n",
      "Epoch 00028: val_loss improved from 0.19163 to 0.19108, saving model to ..\\scripts\\models_h5\\siamese_network2c-t2_9notebook.h5\n",
      "36/36 [==============================] - 592s 17s/step - loss: 0.1342 - accuracy: 0.8333 - val_loss: 0.1911 - val_accuracy: 0.7079 - lr: 1.0000e-04\n",
      "Epoch 29/175\n",
      "36/36 [==============================] - ETA: 0s - loss: 0.1343 - accuracy: 0.8333\n",
      "Epoch 00029: val_loss did not improve from 0.19108\n",
      "36/36 [==============================] - 407s 12s/step - loss: 0.1343 - accuracy: 0.8333 - val_loss: 0.1938 - val_accuracy: 0.7046 - lr: 1.0000e-04\n",
      "Epoch 30/175\n",
      "36/36 [==============================] - ETA: 0s - loss: 0.1339 - accuracy: 0.8333\n",
      "Epoch 00030: val_loss did not improve from 0.19108\n",
      "36/36 [==============================] - 404s 12s/step - loss: 0.1339 - accuracy: 0.8333 - val_loss: 0.1935 - val_accuracy: 0.7063 - lr: 1.0000e-04\n",
      "Epoch 31/175\n",
      "36/36 [==============================] - ETA: 0s - loss: 0.1327 - accuracy: 0.8333\n",
      "Epoch 00031: val_loss improved from 0.19108 to 0.18956, saving model to ..\\scripts\\models_h5\\siamese_network2c-t2_9notebook.h5\n",
      "36/36 [==============================] - 407s 12s/step - loss: 0.1327 - accuracy: 0.8333 - val_loss: 0.1896 - val_accuracy: 0.7188 - lr: 1.0000e-04\n",
      "Epoch 32/175\n",
      "36/36 [==============================] - ETA: 0s - loss: 0.1325 - accuracy: 0.8333\n",
      "Epoch 00032: val_loss did not improve from 0.18956\n",
      "36/36 [==============================] - 396s 11s/step - loss: 0.1325 - accuracy: 0.8333 - val_loss: 0.1899 - val_accuracy: 0.7196 - lr: 1.0000e-04\n",
      "Epoch 33/175\n",
      "36/36 [==============================] - ETA: 0s - loss: 0.1324 - accuracy: 0.8333\n",
      "Epoch 00033: val_loss did not improve from 0.18956\n",
      "36/36 [==============================] - 398s 11s/step - loss: 0.1324 - accuracy: 0.8333 - val_loss: 0.1899 - val_accuracy: 0.7212 - lr: 1.0000e-04\n",
      "Epoch 34/175\n",
      "36/36 [==============================] - ETA: 0s - loss: 0.1318 - accuracy: 0.8333\n",
      "Epoch 00034: val_loss did not improve from 0.18956\n",
      "36/36 [==============================] - 391s 11s/step - loss: 0.1318 - accuracy: 0.8333 - val_loss: 0.1900 - val_accuracy: 0.7212 - lr: 1.0000e-04\n",
      "Epoch 35/175\n",
      "36/36 [==============================] - ETA: 0s - loss: 0.1316 - accuracy: 0.8333\n",
      "Epoch 00035: val_loss improved from 0.18956 to 0.18776, saving model to ..\\scripts\\models_h5\\siamese_network2c-t2_9notebook.h5\n",
      "36/36 [==============================] - 391s 11s/step - loss: 0.1316 - accuracy: 0.8333 - val_loss: 0.1878 - val_accuracy: 0.7275 - lr: 1.0000e-04\n",
      "Epoch 36/175\n",
      "36/36 [==============================] - ETA: 0s - loss: 0.1311 - accuracy: 0.8333\n",
      "Epoch 00036: val_loss did not improve from 0.18776\n",
      "36/36 [==============================] - 393s 11s/step - loss: 0.1311 - accuracy: 0.8333 - val_loss: 0.1887 - val_accuracy: 0.7262 - lr: 1.0000e-04\n",
      "Epoch 37/175\n",
      "36/36 [==============================] - ETA: 0s - loss: 0.1315 - accuracy: 0.8333\n",
      "Epoch 00037: val_loss did not improve from 0.18776\n",
      "36/36 [==============================] - 397s 11s/step - loss: 0.1315 - accuracy: 0.8333 - val_loss: 0.1900 - val_accuracy: 0.7254 - lr: 1.0000e-04\n",
      "Epoch 38/175\n",
      "36/36 [==============================] - ETA: 0s - loss: 0.1306 - accuracy: 0.8333\n",
      "Epoch 00038: val_loss improved from 0.18776 to 0.18760, saving model to ..\\scripts\\models_h5\\siamese_network2c-t2_9notebook.h5\n",
      "36/36 [==============================] - 394s 11s/step - loss: 0.1306 - accuracy: 0.8333 - val_loss: 0.1876 - val_accuracy: 0.7325 - lr: 1.0000e-04\n",
      "Epoch 39/175\n",
      "36/36 [==============================] - ETA: 0s - loss: 0.1303 - accuracy: 0.8333\n",
      "Epoch 00039: val_loss did not improve from 0.18760\n",
      "36/36 [==============================] - 391s 11s/step - loss: 0.1303 - accuracy: 0.8333 - val_loss: 0.1885 - val_accuracy: 0.7317 - lr: 1.0000e-04\n",
      "Epoch 40/175\n",
      "36/36 [==============================] - ETA: 0s - loss: 0.1299 - accuracy: 0.8333\n",
      "Epoch 00040: val_loss did not improve from 0.18760\n",
      "36/36 [==============================] - 392s 11s/step - loss: 0.1299 - accuracy: 0.8333 - val_loss: 0.1879 - val_accuracy: 0.7350 - lr: 1.0000e-04\n",
      "Epoch 41/175\n",
      "36/36 [==============================] - ETA: 0s - loss: 0.1296 - accuracy: 0.8611\n",
      "Epoch 00041: val_loss did not improve from 0.18760\n",
      "36/36 [==============================] - 396s 11s/step - loss: 0.1296 - accuracy: 0.8611 - val_loss: 0.1883 - val_accuracy: 0.7358 - lr: 1.0000e-04\n",
      "Epoch 42/175\n",
      "36/36 [==============================] - ETA: 0s - loss: 0.1291 - accuracy: 0.8611\n",
      "Epoch 00042: val_loss did not improve from 0.18760\n",
      "36/36 [==============================] - 392s 11s/step - loss: 0.1291 - accuracy: 0.8611 - val_loss: 0.1885 - val_accuracy: 0.7362 - lr: 1.0000e-04\n",
      "Epoch 43/175\n",
      "36/36 [==============================] - ETA: 0s - loss: 0.1290 - accuracy: 0.8333\n",
      "Epoch 00043: val_loss improved from 0.18760 to 0.18691, saving model to ..\\scripts\\models_h5\\siamese_network2c-t2_9notebook.h5\n",
      "36/36 [==============================] - 391s 11s/step - loss: 0.1290 - accuracy: 0.8333 - val_loss: 0.1869 - val_accuracy: 0.7396 - lr: 1.0000e-04\n"
     ]
    },
    {
     "name": "stdout",
     "output_type": "stream",
     "text": [
      "Epoch 44/175\n",
      "36/36 [==============================] - ETA: 0s - loss: 0.1285 - accuracy: 0.8611\n",
      "Epoch 00044: val_loss improved from 0.18691 to 0.18586, saving model to ..\\scripts\\models_h5\\siamese_network2c-t2_9notebook.h5\n",
      "36/36 [==============================] - 395s 11s/step - loss: 0.1285 - accuracy: 0.8611 - val_loss: 0.1859 - val_accuracy: 0.7425 - lr: 1.0000e-04\n",
      "Epoch 45/175\n",
      "36/36 [==============================] - ETA: 0s - loss: 0.1282 - accuracy: 0.8611\n",
      "Epoch 00045: val_loss did not improve from 0.18586\n",
      "36/36 [==============================] - 392s 11s/step - loss: 0.1282 - accuracy: 0.8611 - val_loss: 0.1876 - val_accuracy: 0.7408 - lr: 1.0000e-04\n",
      "Epoch 46/175\n",
      "36/36 [==============================] - ETA: 0s - loss: 0.1280 - accuracy: 0.8611\n",
      "Epoch 00046: val_loss did not improve from 0.18586\n",
      "36/36 [==============================] - 396s 11s/step - loss: 0.1280 - accuracy: 0.8611 - val_loss: 0.1870 - val_accuracy: 0.7412 - lr: 1.0000e-04\n",
      "Epoch 47/175\n",
      "36/36 [==============================] - ETA: 0s - loss: 0.1279 - accuracy: 0.8611\n",
      "Epoch 00047: val_loss did not improve from 0.18586\n",
      "36/36 [==============================] - 391s 11s/step - loss: 0.1279 - accuracy: 0.8611 - val_loss: 0.1879 - val_accuracy: 0.7412 - lr: 1.0000e-04\n",
      "Epoch 48/175\n",
      "36/36 [==============================] - ETA: 0s - loss: 0.1274 - accuracy: 0.8611\n",
      "Epoch 00048: val_loss did not improve from 0.18586\n",
      "36/36 [==============================] - 394s 11s/step - loss: 0.1274 - accuracy: 0.8611 - val_loss: 0.1860 - val_accuracy: 0.7454 - lr: 1.0000e-04\n",
      "Epoch 49/175\n",
      "36/36 [==============================] - ETA: 0s - loss: 0.1270 - accuracy: 0.8611\n",
      "Epoch 00049: val_loss did not improve from 0.18586\n",
      "36/36 [==============================] - 394s 11s/step - loss: 0.1270 - accuracy: 0.8611 - val_loss: 0.1866 - val_accuracy: 0.7442 - lr: 1.0000e-04\n",
      "Epoch 50/175\n",
      "36/36 [==============================] - ETA: 0s - loss: 0.1267 - accuracy: 0.8611\n",
      "Epoch 00050: val_loss did not improve from 0.18586\n",
      "36/36 [==============================] - 388s 11s/step - loss: 0.1267 - accuracy: 0.8611 - val_loss: 0.1860 - val_accuracy: 0.7454 - lr: 2.0000e-05\n",
      "Epoch 51/175\n",
      "36/36 [==============================] - ETA: 0s - loss: 0.1267 - accuracy: 0.8611\n",
      "Epoch 00051: val_loss improved from 0.18586 to 0.18586, saving model to ..\\scripts\\models_h5\\siamese_network2c-t2_9notebook.h5\n",
      "36/36 [==============================] - 395s 11s/step - loss: 0.1267 - accuracy: 0.8611 - val_loss: 0.1859 - val_accuracy: 0.7454 - lr: 2.0000e-05\n",
      "Epoch 52/175\n",
      "36/36 [==============================] - ETA: 0s - loss: 0.1266 - accuracy: 0.8611\n",
      "Epoch 00052: val_loss did not improve from 0.18586\n",
      "36/36 [==============================] - 392s 11s/step - loss: 0.1266 - accuracy: 0.8611 - val_loss: 0.1864 - val_accuracy: 0.7454 - lr: 2.0000e-05\n",
      "Epoch 53/175\n",
      "36/36 [==============================] - ETA: 0s - loss: 0.1265 - accuracy: 0.8611\n",
      "Epoch 00053: val_loss did not improve from 0.18586\n",
      "36/36 [==============================] - 393s 11s/step - loss: 0.1265 - accuracy: 0.8611 - val_loss: 0.1859 - val_accuracy: 0.7454 - lr: 2.0000e-05\n",
      "Epoch 54/175\n",
      "36/36 [==============================] - ETA: 0s - loss: 0.1265 - accuracy: 0.8611\n",
      "Epoch 00054: val_loss did not improve from 0.18586\n",
      "36/36 [==============================] - 391s 11s/step - loss: 0.1265 - accuracy: 0.8611 - val_loss: 0.1859 - val_accuracy: 0.7454 - lr: 2.0000e-05\n",
      "Epoch 00054: early stopping\n"
     ]
    },
    {
     "data": {
      "image/png": "[encoded data removed]",
      "text/plain": [
       "<Figure size 432x288 with 1 Axes>"
      ]
     },
     "metadata": {
      "needs_background": "light"
     },
     "output_type": "display_data"
    },
    {
     "data": {
      "image/png": "[encoded data removed]",
      "text/plain": [
       "<Figure size 432x288 with 1 Axes>"
      ]
     },
     "metadata": {
      "needs_background": "light"
     },
     "output_type": "display_data"
    }
   ],
   "source": [
    "optimizer = Adam(learning_rate=0.0001)\n",
    "siamese.compile(loss=utils.loss(1), optimizer=optimizer, metrics=[\"accuracy\"])\n",
    "# siamese.compile(loss='sparse_categorical_crossentropy', optimizer=optimizer, metrics=[\"accuracy\"])\n",
    "\n",
    "siamese.summary()\n",
    "history = siamese.fit([x_train_1, x_train_2],\n",
    "                      labels_train,\n",
    "                      validation_data=([x_val_1, x_val_2], labels_val),\n",
    "                      batch_size=1,\n",
    "                      epochs=epochs,  # 175 for contrastive 100 for cross ent\n",
    "                      callbacks=[checkpointer, early_stopping, reduce_lr]\n",
    "                      )\n",
    "# print()\n",
    "# Plot the accuracy\n",
    "utils.plt_metric(history=history.history, metric=\"accuracy\", title=\"Model accuracy\")\n",
    "\n",
    "# Plot the constrastive loss\n",
    "utils.plt_metric(history=history.history, metric=\"loss\", title=\"Constrastive Loss\")"
   ]
  },
  {
   "cell_type": "code",
   "execution_count": 13,
   "id": "a897dfe2",
   "metadata": {},
   "outputs": [
    {
     "name": "stdout",
     "output_type": "stream",
     "text": [
      "75/75 [==============================] - 284s 4s/step - loss: 0.1334 - accuracy: 0.9142\n",
      "test loss, test acc: [0.13343019783496857, 0.9141666889190674]\n"
     ]
    }
   ],
   "source": [
    "results = siamese.evaluate([x_test_1, x_test_2], labels_test)\n",
    "print(\"test loss, test acc:\", results)"
   ]
  },
  {
   "cell_type": "code",
   "execution_count": 14,
   "id": "5020c970",
   "metadata": {
    "scrolled": true
   },
   "outputs": [
    {
     "name": "stdout",
     "output_type": "stream",
     "text": [
      "\n",
      "Evaluate on validation data\n",
      "Accuracy: 0.9141666666666667\n",
      "Precision: 0.926244786291556\n",
      "Recall: 0.9141666666666667\n",
      "ROC AUC: 0.9141666666666667\n",
      "F1: 0.9135542828047858\n"
     ]
    }
   ],
   "source": [
    "Y_pred = siamese.predict([x_test_1, x_test_2]).squeeze()\n",
    "# 返回的是TRUE或FALSE,没有标签数据怎么知道他被分到哪儿个类中？\n",
    "y_pred = Y_pred > 0.5\n",
    "# x1,和x2是否匹配：匹配1，不匹配0\n",
    "y_test = labels_test\n",
    "print(\"\\nEvaluate on validation data\")\n",
    "Accuracy=accuracy_score(y_test, y_pred)\n",
    "Precision=precision_score(y_test, y_pred, average='weighted')\n",
    "Recall=recall_score(y_test, y_pred, average='weighted')\n",
    "ROC_AUC=roc_auc_score(y_test, y_pred, average='weighted')\n",
    "F1=f1_score(y_test, y_pred, average='weighted')\n",
    "print(\"Accuracy:\", Accuracy)\n",
    "print(\"Precision:\", Precision)\n",
    "print(\"Recall:\", Recall)\n",
    "print(\"ROC AUC:\", ROC_AUC)\n",
    "print(\"F1:\",F1 )"
   ]
  },
  {
   "cell_type": "code",
   "execution_count": 15,
   "id": "0bd41fa8",
   "metadata": {},
   "outputs": [],
   "source": [
    "y_pred = [1 if i else 0 for i in y_pred]\n",
    "pred_labels = []\n",
    "\n",
    "for i in range(0, len(y_pred)):\n",
    "    if y_pred[i] == 1:\n",
    "        pred_labels += [source_labels_test[i]]\n",
    "    else:\n",
    "        if source_labels_test[i] == 1:\n",
    "            pred_labels += [0.0]\n",
    "        else:\n",
    "            pred_labels += [1.0]\n",
    "a = x_test_1.tolist()\n",
    "df = pd.DataFrame({\"image\": a, \"label_{}\".format(teacher_id): pred_labels})\n",
    "if not os.path.exists(pre_results_path):\n",
    "    os.makedirs(pre_results_path)\n",
    "df.to_excel(os.path.join(pre_results_path,\"{}_{}_{}.xlsx\".format(epochs,teacher_id,shot)),index=False)"
   ]
  },
  {
   "cell_type": "code",
   "execution_count": 17,
   "id": "00ad007f",
   "metadata": {},
   "outputs": [
    {
     "data": {
      "image/png": "[encoded data removed]",
      "text/plain": [
       "<Figure size 432x288 with 2 Axes>"
      ]
     },
     "metadata": {
      "needs_background": "light"
     },
     "output_type": "display_data"
    },
    {
     "name": "stdout",
     "output_type": "stream",
     "text": [
      "Specificity: 0.9983333333333333\n"
     ]
    }
   ],
   "source": [
    "cm = confusion_matrix(y_test, y_pred)\n",
    "cm_display = ConfusionMatrixDisplay(cm).plot()\n",
    "plt.show()\n",
    "tn, fp, fn, tp = cm.ravel()\n",
    "specificity = tn / (tn + fp)\n",
    "print(\"Specificity:\", specificity)\n",
    "data_list=[{\"Accuracy\":Accuracy,\"Precision\":Precision,\"Recall\":Recall,\"ROC_AUC\":ROC_AUC,\"tn\":tn,\"fp\":fp,\"fn\":fn,\"tp\":tp,\"specificity\":specificity}]\n",
    "df=pd.DataFrame(data_list)\n",
    "\n",
    "filepath=os.path.join(base_dir,r\"acc_{}_{}\".format(all_teachers,shot))\n",
    "if not os.path.exists(filepath):\n",
    "    os.mkdir(filepath)\n",
    "df.to_excel(os.path.join(filepath,\"{}_{}.xlsx\".format(teacher_id,shot)),index=False)\n",
    "tf.keras.backend.clear_session()"
   ]
  },
  {
   "cell_type": "code",
   "execution_count": null,
   "id": "7b7080bd",
   "metadata": {},
   "outputs": [],
   "source": []
  }
 ],
 "metadata": {
  "kernelspec": {
   "display_name": "Python 3",
   "language": "python",
   "name": "python3"
  },
  "language_info": {
   "codemirror_mode": {
    "name": "ipython",
    "version": 3
   },
   "file_extension": ".py",
   "mimetype": "text/x-python",
   "name": "python",
   "nbconvert_exporter": "python",
   "pygments_lexer": "ipython3",
   "version": "3.8.5"
  }
 },
 "nbformat": 4,
 "nbformat_minor": 5
}
