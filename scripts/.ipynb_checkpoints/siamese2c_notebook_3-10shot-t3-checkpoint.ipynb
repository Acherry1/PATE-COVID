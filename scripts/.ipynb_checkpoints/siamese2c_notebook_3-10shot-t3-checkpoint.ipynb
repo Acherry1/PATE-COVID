{
 "cells": [
  {
   "cell_type": "code",
   "execution_count": 1,
   "id": "b65c72ff",
   "metadata": {},
   "outputs": [],
   "source": [
    "# -*- coding: utf-8 -*-\n",
    "import utils as utils\n",
    "\n",
    "import tensorflow as tf\n",
    "from tensorflow.keras.layers import Dense, Input, Flatten, Lambda\n",
    "from tensorflow.keras.models import Model\n",
    "from tensorflow.keras.optimizers import Adam\n",
    "from sklearn.metrics import accuracy_score, precision_score, recall_score, roc_auc_score, f1_score\n",
    "\n",
    "from sklearn.metrics import confusion_matrix\n",
    "from sklearn.metrics import ConfusionMatrixDisplay\n",
    "\n",
    "import numpy as np\n",
    "import os\n",
    "\n",
    "from tensorflow.keras.callbacks import EarlyStopping, ModelCheckpoint, ReduceLROnPlateau\n",
    "import matplotlib.pyplot as plt\n",
    "import logging\n",
    "\n",
    "logger = tf.get_logger()\n",
    "logger.setLevel(logging.ERROR)"
   ]
  },
  {
   "cell_type": "code",
   "execution_count": 2,
   "id": "95a16c52",
   "metadata": {},
   "outputs": [],
   "source": [
    "all_teachers=3\n",
    "teacher_id = 3\n",
    "epochs = 175\n",
    "shot = 10\n",
    "SIAMESE_MODEL_NAME = '..\\scripts\\models_h5\\siamese_network2c-t{}_{}notebook.h5'.format(teacher_id,shot)\n",
    "EMBEDDING_MODEL_NAME = 'embedding_network2w_0801.h5'\n",
    "if os.path.exists(SIAMESE_MODEL_NAME):\n",
    "    os.remove(SIAMESE_MODEL_NAME)"
   ]
  },
  {
   "cell_type": "code",
   "execution_count": 3,
   "id": "8b86c631",
   "metadata": {},
   "outputs": [
    {
     "name": "stdout",
     "output_type": "stream",
     "text": [
      "Found 14 images belonging to 2 classes.\n",
      "The train set contains 14\n"
     ]
    }
   ],
   "source": [
    "base_dir = r\"..\\scripts\\dataset\"\n",
    "dataset_path = os.path.join( r\"..\\scripts\\auto_datasets\", r\"auto_t{}_{}\\t{}-{}\".format(all_teachers,shot,teacher_id, shot))\n",
    "result_file_path = os.path.join(base_dir, r\"true_result_xlsx\")\n",
    "pre_results_path = os.path.join(base_dir, r\"teacher_results_xlsx\",\"result_{}_{}\".format(all_teachers,shot))\n",
    "train_image_list, train_y_list = utils.load_images(dataset_path, 'train', (100, 100))\n",
    "print(\"The train set contains\", len(train_image_list))"
   ]
  },
  {
   "cell_type": "code",
   "execution_count": 4,
   "id": "8942f300",
   "metadata": {},
   "outputs": [
    {
     "name": "stdout",
     "output_type": "stream",
     "text": [
      "Found 1200 images belonging to 2 classes.\n",
      "The valid set contains 1200\n"
     ]
    }
   ],
   "source": [
    "test_path = r\"../scripts/dataset/pretrain_2c_0727/\"\n",
    "valid_image_list, valid_y_list = utils.load_images(test_path, 'valid', (100, 100))\n",
    "print(\"The valid set contains\", len(valid_image_list))"
   ]
  },
  {
   "cell_type": "code",
   "execution_count": 5,
   "id": "08ff552f",
   "metadata": {},
   "outputs": [
    {
     "name": "stdout",
     "output_type": "stream",
     "text": [
      "Found 1200 images belonging to 2 classes.\n",
      "The test set contains 1200\n"
     ]
    }
   ],
   "source": [
    "test_image_list, test_y_list = utils.load_images(test_path, 'test', (100, 100))\n",
    "print(\"The test set contains\", len(test_image_list))"
   ]
  },
  {
   "cell_type": "code",
   "execution_count": 6,
   "id": "369794ba",
   "metadata": {},
   "outputs": [
    {
     "name": "stdout",
     "output_type": "stream",
     "text": [
      "num_classes: 2\n",
      "num_classes: 2\n",
      "num_classes: 2\n"
     ]
    }
   ],
   "source": [
    "# make train pairs\n",
    "pairs_train, labels_train, source_labels_train, true_labels_train = utils.make_pairs(train_image_list, train_y_list)\n",
    "\n",
    "# make validation pairs\n",
    "pairs_val, labels_val, source_labels_val, true_labels_val = utils.make_pairs(valid_image_list, valid_y_list)\n",
    "\n",
    "# make validation pairs\n",
    "pairs_test, labels_test, source_labels_test, true_labels_test = utils.make_pairs(test_image_list, test_y_list)"
   ]
  },
  {
   "cell_type": "code",
   "execution_count": 7,
   "id": "8959873c",
   "metadata": {},
   "outputs": [],
   "source": [
    "import pandas as pd"
   ]
  },
  {
   "cell_type": "code",
   "execution_count": 8,
   "id": "86c8f79b",
   "metadata": {},
   "outputs": [
    {
     "name": "stdout",
     "output_type": "stream",
     "text": [
      "number of pairs for train 28\n",
      "number of pairs for validation 2400\n",
      "number of pairs for test 2400\n"
     ]
    }
   ],
   "source": [
    "x_train_1 = pairs_train[:, 0]  # x1(如何给标签带上)\n",
    "x_train_2 = pairs_train[:, 1]  # x2\n",
    "print(\"number of pairs for train\", np.shape(x_train_1)[0])\n",
    "\n",
    "x_val_1 = pairs_val[:, 0]\n",
    "x_val_2 = pairs_val[:, 1]\n",
    "print(\"number of pairs for validation\", np.shape(x_val_1)[0])\n",
    "\n",
    "x_test_1 = pairs_test[:, 0]\n",
    "x_test_2 = pairs_test[:, 1]\n",
    "# print(x_test_1)\n",
    "print(\"number of pairs for test\", np.shape(x_test_1)[0])"
   ]
  },
  {
   "cell_type": "code",
   "execution_count": 9,
   "id": "6955c250",
   "metadata": {},
   "outputs": [],
   "source": [
    "if not os.path.exists(result_file_path):\n",
    "    os.makedirs(result_file_path)\n",
    "result_xlsx=os.path.join(result_file_path,\"true_labels.xlsx\")\n",
    "if not os.path.exists(result_xlsx):\n",
    "    test_1_image_list = x_test_1.tolist()\n",
    "    df = pd.DataFrame({\"image\": test_1_image_list, \"true_label\": true_labels_test})\n",
    "    df.to_excel(result_xlsx, index=False)\n",
    "    df = pd.read_excel(result_xlsx)\n",
    "    df.drop_duplicates(inplace=True)\n",
    "    df.to_excel(result_xlsx, index=False)"
   ]
  },
  {
   "cell_type": "code",
   "execution_count": 10,
   "id": "80363b42",
   "metadata": {},
   "outputs": [
    {
     "name": "stdout",
     "output_type": "stream",
     "text": [
      "Model: \"model\"\n",
      "__________________________________________________________________________________________________\n",
      " Layer (type)                   Output Shape         Param #     Connected to                     \n",
      "==================================================================================================\n",
      " input_1 (InputLayer)           [(None, 100, 100, 3  0           []                               \n",
      "                                )]                                                                \n",
      "                                                                                                  \n",
      " input_2 (InputLayer)           [(None, 100, 100, 3  0           []                               \n",
      "                                )]                                                                \n",
      "                                                                                                  \n",
      " sequential (Sequential)        (None, 5120)         14739266    ['input_1[0][0]',                \n",
      "                                                                  'input_2[0][0]']                \n",
      "                                                                                                  \n",
      " lambda (Lambda)                (None, 1)            0           ['sequential[0][0]',             \n",
      "                                                                  'sequential[1][0]']             \n",
      "                                                                                                  \n",
      " dense (Dense)                  (None, 1)            2           ['lambda[0][0]']                 \n",
      "                                                                                                  \n",
      "==================================================================================================\n",
      "Total params: 14,739,268\n",
      "Trainable params: 15,362\n",
      "Non-trainable params: 14,723,906\n",
      "__________________________________________________________________________________________________\n"
     ]
    }
   ],
   "source": [
    "tf.compat.v1.reset_default_graph()\n",
    "\n",
    "input_1 = Input((100, 100, 3))\n",
    "input_2 = Input((100, 100, 3))\n",
    "\n",
    "embedding_network = tf.keras.models.load_model(EMBEDDING_MODEL_NAME)\n",
    "embedding_network.trainable = False\n",
    "\n",
    "model = tf.keras.Sequential()\n",
    "for layer in embedding_network.layers:\n",
    "    model.add(layer)\n",
    "\n",
    "model.add(Flatten(name='flat'))\n",
    "model.add(Dense(5120, name='den', activation='sigmoid', kernel_regularizer='l2'))\n",
    "\n",
    "output_1 = model(input_1)\n",
    "output_2 = model(input_2)\n",
    "\n",
    "merge_layer = Lambda(utils.manhattan_distance)([output_1, output_2])\n",
    "output_layer = Dense(1, activation=\"sigmoid\")(merge_layer)\n",
    "siamese = Model(inputs=[input_1, input_2], outputs=output_layer)\n",
    "siamese.summary()"
   ]
  },
  {
   "cell_type": "code",
   "execution_count": 11,
   "id": "2c9f7dc9",
   "metadata": {},
   "outputs": [],
   "source": [
    "reduce_lr = ReduceLROnPlateau(monitor='val_loss', factor=0.2, patience=5, min_lr=0.00001)\n",
    "\n",
    "early_stopping = EarlyStopping(monitor='val_loss', patience=10, verbose=1, min_delta=0.0001)\n",
    "\n",
    "checkpointer = ModelCheckpoint(filepath=SIAMESE_MODEL_NAME, verbose=1,\n",
    "                               save_best_only=True)"
   ]
  },
  {
   "cell_type": "code",
   "execution_count": 12,
   "id": "d5b049d6",
   "metadata": {},
   "outputs": [
    {
     "name": "stdout",
     "output_type": "stream",
     "text": [
      "Model: \"model\"\n",
      "__________________________________________________________________________________________________\n",
      " Layer (type)                   Output Shape         Param #     Connected to                     \n",
      "==================================================================================================\n",
      " input_1 (InputLayer)           [(None, 100, 100, 3  0           []                               \n",
      "                                )]                                                                \n",
      "                                                                                                  \n",
      " input_2 (InputLayer)           [(None, 100, 100, 3  0           []                               \n",
      "                                )]                                                                \n",
      "                                                                                                  \n",
      " sequential (Sequential)        (None, 5120)         14739266    ['input_1[0][0]',                \n",
      "                                                                  'input_2[0][0]']                \n",
      "                                                                                                  \n",
      " lambda (Lambda)                (None, 1)            0           ['sequential[0][0]',             \n",
      "                                                                  'sequential[1][0]']             \n",
      "                                                                                                  \n",
      " dense (Dense)                  (None, 1)            2           ['lambda[0][0]']                 \n",
      "                                                                                                  \n",
      "==================================================================================================\n",
      "Total params: 14,739,268\n",
      "Trainable params: 15,362\n",
      "Non-trainable params: 14,723,906\n",
      "__________________________________________________________________________________________________\n",
      "Epoch 1/175\n",
      "28/28 [==============================] - ETA: 0s - loss: 0.1731 - accuracy: 0.6071 ETA: \n",
      "Epoch 00001: val_loss improved from inf to 0.31588, saving model to ..\\scripts\\models_h5\\siamese_network2c-t1_7notebook.h5\n",
      "28/28 [==============================] - 208s 8s/step - loss: 0.1731 - accuracy: 0.6071 - val_loss: 0.3159 - val_accuracy: 0.5125 - lr: 1.0000e-04\n",
      "Epoch 2/175\n",
      "28/28 [==============================] - ETA: 0s - loss: 0.1649 - accuracy: 0.6071\n",
      "Epoch 00002: val_loss improved from 0.31588 to 0.30245, saving model to ..\\scripts\\models_h5\\siamese_network2c-t1_7notebook.h5\n",
      "28/28 [==============================] - 203s 8s/step - loss: 0.1649 - accuracy: 0.6071 - val_loss: 0.3024 - val_accuracy: 0.5254 - lr: 1.0000e-04\n",
      "Epoch 3/175\n",
      "28/28 [==============================] - ETA: 0s - loss: 0.1574 - accuracy: 0.6786\n",
      "Epoch 00003: val_loss improved from 0.30245 to 0.28955, saving model to ..\\scripts\\models_h5\\siamese_network2c-t1_7notebook.h5\n",
      "28/28 [==============================] - 206s 8s/step - loss: 0.1574 - accuracy: 0.6786 - val_loss: 0.2896 - val_accuracy: 0.5367 - lr: 1.0000e-04\n",
      "Epoch 4/175\n",
      "28/28 [==============================] - ETA: 0s - loss: 0.1509 - accuracy: 0.7500\n",
      "Epoch 00004: val_loss improved from 0.28955 to 0.27695, saving model to ..\\scripts\\models_h5\\siamese_network2c-t1_7notebook.h5\n",
      "28/28 [==============================] - 201s 7s/step - loss: 0.1509 - accuracy: 0.7500 - val_loss: 0.2770 - val_accuracy: 0.5475 - lr: 1.0000e-04\n",
      "Epoch 5/175\n",
      "28/28 [==============================] - ETA: 0s - loss: 0.1455 - accuracy: 0.7857\n",
      "Epoch 00005: val_loss improved from 0.27695 to 0.26373, saving model to ..\\scripts\\models_h5\\siamese_network2c-t1_7notebook.h5\n",
      "28/28 [==============================] - 198s 7s/step - loss: 0.1455 - accuracy: 0.7857 - val_loss: 0.2637 - val_accuracy: 0.5633 - lr: 1.0000e-04\n",
      "Epoch 6/175\n",
      "28/28 [==============================] - ETA: 0s - loss: 0.1408 - accuracy: 0.7857\n",
      "Epoch 00006: val_loss improved from 0.26373 to 0.25196, saving model to ..\\scripts\\models_h5\\siamese_network2c-t1_7notebook.h5\n",
      "28/28 [==============================] - 206s 8s/step - loss: 0.1408 - accuracy: 0.7857 - val_loss: 0.2520 - val_accuracy: 0.5750 - lr: 1.0000e-04\n",
      "Epoch 7/175\n",
      "28/28 [==============================] - ETA: 0s - loss: 0.1370 - accuracy: 0.7857\n",
      "Epoch 00007: val_loss improved from 0.25196 to 0.23872, saving model to ..\\scripts\\models_h5\\siamese_network2c-t1_7notebook.h5\n",
      "28/28 [==============================] - 198s 7s/step - loss: 0.1370 - accuracy: 0.7857 - val_loss: 0.2387 - val_accuracy: 0.5838 - lr: 1.0000e-04\n",
      "Epoch 8/175\n",
      "28/28 [==============================] - ETA: 0s - loss: 0.1339 - accuracy: 0.8214\n",
      "Epoch 00008: val_loss improved from 0.23872 to 0.22537, saving model to ..\\scripts\\models_h5\\siamese_network2c-t1_7notebook.h5\n",
      "28/28 [==============================] - 198s 7s/step - loss: 0.1339 - accuracy: 0.8214 - val_loss: 0.2254 - val_accuracy: 0.6012 - lr: 1.0000e-04\n",
      "Epoch 9/175\n",
      "28/28 [==============================] - ETA: 0s - loss: 0.1315 - accuracy: 0.8214\n",
      "Epoch 00009: val_loss improved from 0.22537 to 0.21580, saving model to ..\\scripts\\models_h5\\siamese_network2c-t1_7notebook.h5\n",
      "28/28 [==============================] - 205s 8s/step - loss: 0.1315 - accuracy: 0.8214 - val_loss: 0.2158 - val_accuracy: 0.6150 - lr: 1.0000e-04\n",
      "Epoch 10/175\n",
      "28/28 [==============================] - ETA: 0s - loss: 0.1301 - accuracy: 0.8214\n",
      "Epoch 00010: val_loss improved from 0.21580 to 0.21454, saving model to ..\\scripts\\models_h5\\siamese_network2c-t1_7notebook.h5\n",
      "28/28 [==============================] - 199s 7s/step - loss: 0.1301 - accuracy: 0.8214 - val_loss: 0.2145 - val_accuracy: 0.6200 - lr: 1.0000e-04\n",
      "Epoch 11/175\n",
      "28/28 [==============================] - ETA: 0s - loss: 0.1290 - accuracy: 0.8214\n",
      "Epoch 00011: val_loss did not improve from 0.21454\n",
      "28/28 [==============================] - 198s 7s/step - loss: 0.1290 - accuracy: 0.8214 - val_loss: 0.2150 - val_accuracy: 0.6233 - lr: 1.0000e-04\n",
      "Epoch 12/175\n",
      "28/28 [==============================] - ETA: 0s - loss: 0.1281 - accuracy: 0.8214\n",
      "Epoch 00012: val_loss improved from 0.21454 to 0.21289, saving model to ..\\scripts\\models_h5\\siamese_network2c-t1_7notebook.h5\n",
      "28/28 [==============================] - 198s 7s/step - loss: 0.1281 - accuracy: 0.8214 - val_loss: 0.2129 - val_accuracy: 0.6308 - lr: 1.0000e-04\n",
      "Epoch 13/175\n",
      "28/28 [==============================] - ETA: 0s - loss: 0.1272 - accuracy: 0.8571\n",
      "Epoch 00013: val_loss improved from 0.21289 to 0.21014, saving model to ..\\scripts\\models_h5\\siamese_network2c-t1_7notebook.h5\n",
      "28/28 [==============================] - 198s 7s/step - loss: 0.1272 - accuracy: 0.8571 - val_loss: 0.2101 - val_accuracy: 0.6404 - lr: 1.0000e-04\n",
      "Epoch 14/175\n",
      "28/28 [==============================] - ETA: 0s - loss: 0.1267 - accuracy: 0.8929\n",
      "Epoch 00014: val_loss did not improve from 0.21014\n",
      "28/28 [==============================] - 197s 7s/step - loss: 0.1267 - accuracy: 0.8929 - val_loss: 0.2117 - val_accuracy: 0.6417 - lr: 1.0000e-04\n",
      "Epoch 15/175\n",
      "28/28 [==============================] - ETA: 0s - loss: 0.1262 - accuracy: 0.8929\n",
      "Epoch 00015: val_loss did not improve from 0.21014\n",
      "28/28 [==============================] - 198s 7s/step - loss: 0.1262 - accuracy: 0.8929 - val_loss: 0.2116 - val_accuracy: 0.6438 - lr: 1.0000e-04\n",
      "Epoch 16/175\n",
      "28/28 [==============================] - ETA: 0s - loss: 0.1256 - accuracy: 0.9286\n",
      "Epoch 00016: val_loss did not improve from 0.21014\n",
      "28/28 [==============================] - 198s 7s/step - loss: 0.1256 - accuracy: 0.9286 - val_loss: 0.2120 - val_accuracy: 0.6458 - lr: 1.0000e-04\n",
      "Epoch 17/175\n",
      "28/28 [==============================] - ETA: 0s - loss: 0.1253 - accuracy: 0.9286\n",
      "Epoch 00017: val_loss improved from 0.21014 to 0.20913, saving model to ..\\scripts\\models_h5\\siamese_network2c-t1_7notebook.h5\n",
      "28/28 [==============================] - 198s 7s/step - loss: 0.1253 - accuracy: 0.9286 - val_loss: 0.2091 - val_accuracy: 0.6513 - lr: 1.0000e-04\n",
      "Epoch 18/175\n",
      "28/28 [==============================] - ETA: 0s - loss: 0.1248 - accuracy: 0.9286\n",
      "Epoch 00018: val_loss did not improve from 0.20913\n",
      "28/28 [==============================] - 200s 7s/step - loss: 0.1248 - accuracy: 0.9286 - val_loss: 0.2112 - val_accuracy: 0.6517 - lr: 1.0000e-04\n"
     ]
    },
    {
     "name": "stdout",
     "output_type": "stream",
     "text": [
      "Epoch 19/175\n",
      "28/28 [==============================] - ETA: 0s - loss: 0.1245 - accuracy: 0.9286\n",
      "Epoch 00019: val_loss improved from 0.20913 to 0.20866, saving model to ..\\scripts\\models_h5\\siamese_network2c-t1_7notebook.h5\n",
      "28/28 [==============================] - 199s 7s/step - loss: 0.1245 - accuracy: 0.9286 - val_loss: 0.2087 - val_accuracy: 0.6571 - lr: 1.0000e-04\n",
      "Epoch 20/175\n",
      "28/28 [==============================] - ETA: 0s - loss: 0.1242 - accuracy: 0.9286\n",
      "Epoch 00020: val_loss did not improve from 0.20866\n",
      "28/28 [==============================] - 196s 7s/step - loss: 0.1242 - accuracy: 0.9286 - val_loss: 0.2090 - val_accuracy: 0.6592 - lr: 1.0000e-04\n",
      "Epoch 21/175\n",
      "28/28 [==============================] - ETA: 0s - loss: 0.1238 - accuracy: 0.9286\n",
      "Epoch 00021: val_loss improved from 0.20866 to 0.20647, saving model to ..\\scripts\\models_h5\\siamese_network2c-t1_7notebook.h5\n",
      "28/28 [==============================] - 196s 7s/step - loss: 0.1238 - accuracy: 0.9286 - val_loss: 0.2065 - val_accuracy: 0.6637 - lr: 1.0000e-04\n",
      "Epoch 22/175\n",
      "28/28 [==============================] - ETA: 0s - loss: 0.1236 - accuracy: 0.9286\n",
      "Epoch 00022: val_loss did not improve from 0.20647\n",
      "28/28 [==============================] - 196s 7s/step - loss: 0.1236 - accuracy: 0.9286 - val_loss: 0.2071 - val_accuracy: 0.6658 - lr: 1.0000e-04\n",
      "Epoch 23/175\n",
      "28/28 [==============================] - ETA: 0s - loss: 0.1233 - accuracy: 0.9286\n",
      "Epoch 00023: val_loss did not improve from 0.20647\n",
      "28/28 [==============================] - 195s 7s/step - loss: 0.1233 - accuracy: 0.9286 - val_loss: 0.2068 - val_accuracy: 0.6671 - lr: 1.0000e-04\n",
      "Epoch 24/175\n",
      "28/28 [==============================] - ETA: 0s - loss: 0.1230 - accuracy: 0.9286 ETA: 1s - loss: 0\n",
      "Epoch 00024: val_loss did not improve from 0.20647\n",
      "28/28 [==============================] - 197s 7s/step - loss: 0.1230 - accuracy: 0.9286 - val_loss: 0.2093 - val_accuracy: 0.6667 - lr: 1.0000e-04\n",
      "Epoch 25/175\n",
      "28/28 [==============================] - ETA: 0s - loss: 0.1229 - accuracy: 0.9286\n",
      "Epoch 00025: val_loss improved from 0.20647 to 0.20612, saving model to ..\\scripts\\models_h5\\siamese_network2c-t1_7notebook.h5\n",
      "28/28 [==============================] - 195s 7s/step - loss: 0.1229 - accuracy: 0.9286 - val_loss: 0.2061 - val_accuracy: 0.6746 - lr: 1.0000e-04\n",
      "Epoch 26/175\n",
      "28/28 [==============================] - ETA: 0s - loss: 0.1225 - accuracy: 0.9286\n",
      "Epoch 00026: val_loss did not improve from 0.20612\n",
      "28/28 [==============================] - 198s 7s/step - loss: 0.1225 - accuracy: 0.9286 - val_loss: 0.2075 - val_accuracy: 0.6746 - lr: 1.0000e-04\n",
      "Epoch 27/175\n",
      "28/28 [==============================] - ETA: 0s - loss: 0.1224 - accuracy: 0.9286\n",
      "Epoch 00027: val_loss did not improve from 0.20612\n",
      "28/28 [==============================] - 199s 7s/step - loss: 0.1224 - accuracy: 0.9286 - val_loss: 0.2089 - val_accuracy: 0.6750 - lr: 1.0000e-04\n",
      "Epoch 28/175\n",
      "28/28 [==============================] - ETA: 0s - loss: 0.1220 - accuracy: 0.9286\n",
      "Epoch 00028: val_loss did not improve from 0.20612\n",
      "28/28 [==============================] - 197s 7s/step - loss: 0.1220 - accuracy: 0.9286 - val_loss: 0.2080 - val_accuracy: 0.6771 - lr: 1.0000e-04\n",
      "Epoch 29/175\n",
      "28/28 [==============================] - ETA: 0s - loss: 0.1220 - accuracy: 0.9286\n",
      "Epoch 00029: val_loss did not improve from 0.20612\n",
      "28/28 [==============================] - 198s 7s/step - loss: 0.1220 - accuracy: 0.9286 - val_loss: 0.2076 - val_accuracy: 0.6800 - lr: 1.0000e-04\n",
      "Epoch 30/175\n",
      "28/28 [==============================] - ETA: 0s - loss: 0.1216 - accuracy: 0.9286\n",
      "Epoch 00030: val_loss did not improve from 0.20612\n",
      "28/28 [==============================] - 200s 7s/step - loss: 0.1216 - accuracy: 0.9286 - val_loss: 0.2091 - val_accuracy: 0.6800 - lr: 1.0000e-04\n",
      "Epoch 31/175\n",
      "28/28 [==============================] - ETA: 0s - loss: 0.1214 - accuracy: 0.9286\n",
      "Epoch 00031: val_loss did not improve from 0.20612\n",
      "28/28 [==============================] - 198s 7s/step - loss: 0.1214 - accuracy: 0.9286 - val_loss: 0.2076 - val_accuracy: 0.6821 - lr: 2.0000e-05\n",
      "Epoch 32/175\n",
      "28/28 [==============================] - ETA: 0s - loss: 0.1213 - accuracy: 0.9286\n",
      "Epoch 00032: val_loss did not improve from 0.20612\n",
      "28/28 [==============================] - 198s 7s/step - loss: 0.1213 - accuracy: 0.9286 - val_loss: 0.2066 - val_accuracy: 0.6842 - lr: 2.0000e-05\n",
      "Epoch 33/175\n",
      "28/28 [==============================] - ETA: 0s - loss: 0.1212 - accuracy: 0.9286\n",
      "Epoch 00033: val_loss improved from 0.20612 to 0.20600, saving model to ..\\scripts\\models_h5\\siamese_network2c-t1_7notebook.h5\n",
      "28/28 [==============================] - 198s 7s/step - loss: 0.1212 - accuracy: 0.9286 - val_loss: 0.2060 - val_accuracy: 0.6850 - lr: 2.0000e-05\n",
      "Epoch 34/175\n",
      "28/28 [==============================] - ETA: 0s - loss: 0.1212 - accuracy: 0.9286\n",
      "Epoch 00034: val_loss improved from 0.20600 to 0.20544, saving model to ..\\scripts\\models_h5\\siamese_network2c-t1_7notebook.h5\n",
      "28/28 [==============================] - 199s 7s/step - loss: 0.1212 - accuracy: 0.9286 - val_loss: 0.2054 - val_accuracy: 0.6850 - lr: 2.0000e-05\n",
      "Epoch 35/175\n",
      "28/28 [==============================] - ETA: 0s - loss: 0.1211 - accuracy: 0.9286\n",
      "Epoch 00035: val_loss did not improve from 0.20544\n",
      "28/28 [==============================] - 199s 7s/step - loss: 0.1211 - accuracy: 0.9286 - val_loss: 0.2060 - val_accuracy: 0.6850 - lr: 2.0000e-05\n",
      "Epoch 36/175\n",
      "28/28 [==============================] - ETA: 0s - loss: 0.1211 - accuracy: 0.9286\n",
      "Epoch 00036: val_loss improved from 0.20544 to 0.20531, saving model to ..\\scripts\\models_h5\\siamese_network2c-t1_7notebook.h5\n",
      "28/28 [==============================] - 199s 7s/step - loss: 0.1211 - accuracy: 0.9286 - val_loss: 0.2053 - val_accuracy: 0.6854 - lr: 2.0000e-05\n",
      "Epoch 37/175\n",
      "28/28 [==============================] - ETA: 0s - loss: 0.1211 - accuracy: 0.9286\n",
      "Epoch 00037: val_loss did not improve from 0.20531\n",
      "28/28 [==============================] - 197s 7s/step - loss: 0.1211 - accuracy: 0.9286 - val_loss: 0.2055 - val_accuracy: 0.6858 - lr: 2.0000e-05\n",
      "Epoch 38/175\n",
      "28/28 [==============================] - ETA: 0s - loss: 0.1210 - accuracy: 0.9286 ETA: 1s\n",
      "Epoch 00038: val_loss improved from 0.20531 to 0.20510, saving model to ..\\scripts\\models_h5\\siamese_network2c-t1_7notebook.h5\n",
      "28/28 [==============================] - 198s 7s/step - loss: 0.1210 - accuracy: 0.9286 - val_loss: 0.2051 - val_accuracy: 0.6875 - lr: 2.0000e-05\n",
      "Epoch 39/175\n",
      "28/28 [==============================] - ETA: 0s - loss: 0.1210 - accuracy: 0.9286\n",
      "Epoch 00039: val_loss did not improve from 0.20510\n",
      "28/28 [==============================] - 198s 7s/step - loss: 0.1210 - accuracy: 0.9286 - val_loss: 0.2053 - val_accuracy: 0.6875 - lr: 2.0000e-05\n",
      "Epoch 40/175\n",
      "28/28 [==============================] - ETA: 0s - loss: 0.1209 - accuracy: 0.9286\n",
      "Epoch 00040: val_loss did not improve from 0.20510\n",
      "28/28 [==============================] - 197s 7s/step - loss: 0.1209 - accuracy: 0.9286 - val_loss: 0.2056 - val_accuracy: 0.6875 - lr: 2.0000e-05\n",
      "Epoch 41/175\n",
      "28/28 [==============================] - ETA: 0s - loss: 0.1209 - accuracy: 0.9286\n",
      "Epoch 00041: val_loss did not improve from 0.20510\n",
      "28/28 [==============================] - 197s 7s/step - loss: 0.1209 - accuracy: 0.9286 - val_loss: 0.2060 - val_accuracy: 0.6871 - lr: 2.0000e-05\n",
      "Epoch 42/175\n",
      "28/28 [==============================] - ETA: 0s - loss: 0.1209 - accuracy: 0.9286\n",
      "Epoch 00042: val_loss improved from 0.20510 to 0.20486, saving model to ..\\scripts\\models_h5\\siamese_network2c-t1_7notebook.h5\n",
      "28/28 [==============================] - 197s 7s/step - loss: 0.1209 - accuracy: 0.9286 - val_loss: 0.2049 - val_accuracy: 0.6892 - lr: 2.0000e-05\n",
      "Epoch 43/175\n",
      "28/28 [==============================] - ETA: 0s - loss: 0.1208 - accuracy: 0.9643\n",
      "Epoch 00043: val_loss did not improve from 0.20486\n",
      "28/28 [==============================] - 201s 7s/step - loss: 0.1208 - accuracy: 0.9643 - val_loss: 0.2053 - val_accuracy: 0.6896 - lr: 2.0000e-05\n",
      "Epoch 44/175\n",
      "28/28 [==============================] - ETA: 0s - loss: 0.1208 - accuracy: 0.9286\n",
      "Epoch 00044: val_loss did not improve from 0.20486\n",
      "28/28 [==============================] - 198s 7s/step - loss: 0.1208 - accuracy: 0.9286 - val_loss: 0.2064 - val_accuracy: 0.6875 - lr: 2.0000e-05\n"
     ]
    },
    {
     "name": "stdout",
     "output_type": "stream",
     "text": [
      "Epoch 45/175\n",
      "28/28 [==============================] - ETA: 0s - loss: 0.1207 - accuracy: 0.9286\n",
      "Epoch 00045: val_loss did not improve from 0.20486\n",
      "28/28 [==============================] - 197s 7s/step - loss: 0.1207 - accuracy: 0.9286 - val_loss: 0.2059 - val_accuracy: 0.6892 - lr: 2.0000e-05\n",
      "Epoch 46/175\n",
      "28/28 [==============================] - ETA: 0s - loss: 0.1206 - accuracy: 0.9643\n",
      "Epoch 00046: val_loss improved from 0.20486 to 0.20470, saving model to ..\\scripts\\models_h5\\siamese_network2c-t1_7notebook.h5\n",
      "28/28 [==============================] - 197s 7s/step - loss: 0.1206 - accuracy: 0.9643 - val_loss: 0.2047 - val_accuracy: 0.6908 - lr: 2.0000e-05\n",
      "Epoch 47/175\n",
      "28/28 [==============================] - ETA: 0s - loss: 0.1206 - accuracy: 0.9643\n",
      "Epoch 00047: val_loss did not improve from 0.20470\n",
      "28/28 [==============================] - 197s 7s/step - loss: 0.1206 - accuracy: 0.9643 - val_loss: 0.2052 - val_accuracy: 0.6908 - lr: 2.0000e-05\n",
      "Epoch 48/175\n",
      "28/28 [==============================] - ETA: 0s - loss: 0.1205 - accuracy: 0.9643\n",
      "Epoch 00048: val_loss did not improve from 0.20470\n",
      "28/28 [==============================] - 198s 7s/step - loss: 0.1205 - accuracy: 0.9643 - val_loss: 0.2048 - val_accuracy: 0.6913 - lr: 2.0000e-05\n",
      "Epoch 49/175\n",
      "28/28 [==============================] - ETA: 0s - loss: 0.1205 - accuracy: 0.9643\n",
      "Epoch 00049: val_loss did not improve from 0.20470\n",
      "28/28 [==============================] - 197s 7s/step - loss: 0.1205 - accuracy: 0.9643 - val_loss: 0.2054 - val_accuracy: 0.6908 - lr: 2.0000e-05\n",
      "Epoch 50/175\n",
      "28/28 [==============================] - ETA: 0s - loss: 0.1204 - accuracy: 0.9643\n",
      "Epoch 00050: val_loss did not improve from 0.20470\n",
      "28/28 [==============================] - 197s 7s/step - loss: 0.1204 - accuracy: 0.9643 - val_loss: 0.2051 - val_accuracy: 0.6913 - lr: 2.0000e-05\n",
      "Epoch 51/175\n",
      "28/28 [==============================] - ETA: 0s - loss: 0.1204 - accuracy: 0.9643\n",
      "Epoch 00051: val_loss did not improve from 0.20470\n",
      "28/28 [==============================] - 197s 7s/step - loss: 0.1204 - accuracy: 0.9643 - val_loss: 0.2051 - val_accuracy: 0.6913 - lr: 2.0000e-05\n",
      "Epoch 52/175\n",
      "28/28 [==============================] - ETA: 0s - loss: 0.1203 - accuracy: 0.9643\n",
      "Epoch 00052: val_loss did not improve from 0.20470\n",
      "28/28 [==============================] - 198s 7s/step - loss: 0.1203 - accuracy: 0.9643 - val_loss: 0.2050 - val_accuracy: 0.6917 - lr: 1.0000e-05\n",
      "Epoch 53/175\n",
      "28/28 [==============================] - ETA: 0s - loss: 0.1203 - accuracy: 0.9643\n",
      "Epoch 00053: val_loss did not improve from 0.20470\n",
      "28/28 [==============================] - 198s 7s/step - loss: 0.1203 - accuracy: 0.9643 - val_loss: 0.2050 - val_accuracy: 0.6921 - lr: 1.0000e-05\n",
      "Epoch 54/175\n",
      "28/28 [==============================] - ETA: 0s - loss: 0.1203 - accuracy: 0.9643\n",
      "Epoch 00054: val_loss improved from 0.20470 to 0.20455, saving model to ..\\scripts\\models_h5\\siamese_network2c-t1_7notebook.h5\n",
      "28/28 [==============================] - 197s 7s/step - loss: 0.1203 - accuracy: 0.9643 - val_loss: 0.2046 - val_accuracy: 0.6933 - lr: 1.0000e-05\n",
      "Epoch 55/175\n",
      "28/28 [==============================] - ETA: 0s - loss: 0.1203 - accuracy: 0.9643\n",
      "Epoch 00055: val_loss did not improve from 0.20455\n",
      "28/28 [==============================] - 196s 7s/step - loss: 0.1203 - accuracy: 0.9643 - val_loss: 0.2055 - val_accuracy: 0.6913 - lr: 1.0000e-05\n",
      "Epoch 56/175\n",
      "28/28 [==============================] - ETA: 0s - loss: 0.1203 - accuracy: 0.9643\n",
      "Epoch 00056: val_loss did not improve from 0.20455\n",
      "28/28 [==============================] - 195s 7s/step - loss: 0.1203 - accuracy: 0.9643 - val_loss: 0.2050 - val_accuracy: 0.6933 - lr: 1.0000e-05\n",
      "Epoch 57/175\n",
      "28/28 [==============================] - ETA: 0s - loss: 0.1202 - accuracy: 0.9643\n",
      "Epoch 00057: val_loss did not improve from 0.20455\n",
      "28/28 [==============================] - 196s 7s/step - loss: 0.1202 - accuracy: 0.9643 - val_loss: 0.2046 - val_accuracy: 0.6942 - lr: 1.0000e-05\n",
      "Epoch 58/175\n",
      "28/28 [==============================] - ETA: 0s - loss: 0.1202 - accuracy: 0.9643\n",
      "Epoch 00058: val_loss did not improve from 0.20455\n",
      "28/28 [==============================] - 196s 7s/step - loss: 0.1202 - accuracy: 0.9643 - val_loss: 0.2047 - val_accuracy: 0.6942 - lr: 1.0000e-05\n",
      "Epoch 59/175\n",
      "28/28 [==============================] - ETA: 0s - loss: 0.1202 - accuracy: 0.9643\n",
      "Epoch 00059: val_loss did not improve from 0.20455\n",
      "28/28 [==============================] - 196s 7s/step - loss: 0.1202 - accuracy: 0.9643 - val_loss: 0.2048 - val_accuracy: 0.6942 - lr: 1.0000e-05\n",
      "Epoch 60/175\n",
      "28/28 [==============================] - ETA: 0s - loss: 0.1202 - accuracy: 0.9643\n",
      "Epoch 00060: val_loss improved from 0.20455 to 0.20445, saving model to ..\\scripts\\models_h5\\siamese_network2c-t1_7notebook.h5\n",
      "28/28 [==============================] - 197s 7s/step - loss: 0.1202 - accuracy: 0.9643 - val_loss: 0.2044 - val_accuracy: 0.6938 - lr: 1.0000e-05\n",
      "Epoch 61/175\n",
      "28/28 [==============================] - ETA: 0s - loss: 0.1201 - accuracy: 0.9643\n",
      "Epoch 00061: val_loss did not improve from 0.20445\n",
      "28/28 [==============================] - 196s 7s/step - loss: 0.1201 - accuracy: 0.9643 - val_loss: 0.2049 - val_accuracy: 0.6942 - lr: 1.0000e-05\n",
      "Epoch 62/175\n",
      "28/28 [==============================] - ETA: 0s - loss: 0.1201 - accuracy: 0.9643\n",
      "Epoch 00062: val_loss did not improve from 0.20445\n",
      "28/28 [==============================] - 196s 7s/step - loss: 0.1201 - accuracy: 0.9643 - val_loss: 0.2053 - val_accuracy: 0.6933 - lr: 1.0000e-05\n",
      "Epoch 63/175\n",
      "28/28 [==============================] - ETA: 0s - loss: 0.1201 - accuracy: 0.9643\n",
      "Epoch 00063: val_loss did not improve from 0.20445\n",
      "28/28 [==============================] - 196s 7s/step - loss: 0.1201 - accuracy: 0.9643 - val_loss: 0.2046 - val_accuracy: 0.6938 - lr: 1.0000e-05\n",
      "Epoch 64/175\n",
      "28/28 [==============================] - ETA: 0s - loss: 0.1201 - accuracy: 0.9643\n",
      "Epoch 00064: val_loss did not improve from 0.20445\n",
      "28/28 [==============================] - 196s 7s/step - loss: 0.1201 - accuracy: 0.9643 - val_loss: 0.2048 - val_accuracy: 0.6938 - lr: 1.0000e-05\n",
      "Epoch 65/175\n",
      "28/28 [==============================] - ETA: 0s - loss: 0.1201 - accuracy: 0.9643 ETA: \n",
      "Epoch 00065: val_loss improved from 0.20445 to 0.20437, saving model to ..\\scripts\\models_h5\\siamese_network2c-t1_7notebook.h5\n",
      "28/28 [==============================] - 195s 7s/step - loss: 0.1201 - accuracy: 0.9643 - val_loss: 0.2044 - val_accuracy: 0.6942 - lr: 1.0000e-05\n",
      "Epoch 66/175\n",
      "28/28 [==============================] - ETA: 0s - loss: 0.1200 - accuracy: 0.9643\n",
      "Epoch 00066: val_loss did not improve from 0.20437\n",
      "28/28 [==============================] - 196s 7s/step - loss: 0.1200 - accuracy: 0.9643 - val_loss: 0.2050 - val_accuracy: 0.6938 - lr: 1.0000e-05\n",
      "Epoch 67/175\n",
      "28/28 [==============================] - ETA: 0s - loss: 0.1200 - accuracy: 0.9643\n",
      "Epoch 00067: val_loss did not improve from 0.20437\n",
      "28/28 [==============================] - 196s 7s/step - loss: 0.1200 - accuracy: 0.9643 - val_loss: 0.2053 - val_accuracy: 0.6938 - lr: 1.0000e-05\n",
      "Epoch 68/175\n",
      "28/28 [==============================] - ETA: 0s - loss: 0.1200 - accuracy: 0.9643\n",
      "Epoch 00068: val_loss did not improve from 0.20437\n",
      "28/28 [==============================] - 196s 7s/step - loss: 0.1200 - accuracy: 0.9643 - val_loss: 0.2046 - val_accuracy: 0.6942 - lr: 1.0000e-05\n",
      "Epoch 69/175\n",
      "28/28 [==============================] - ETA: 0s - loss: 0.1200 - accuracy: 0.9643\n",
      "Epoch 00069: val_loss did not improve from 0.20437\n",
      "28/28 [==============================] - 195s 7s/step - loss: 0.1200 - accuracy: 0.9643 - val_loss: 0.2045 - val_accuracy: 0.6942 - lr: 1.0000e-05\n",
      "Epoch 70/175\n",
      "28/28 [==============================] - ETA: 0s - loss: 0.1199 - accuracy: 0.9643\n",
      "Epoch 00070: val_loss did not improve from 0.20437\n",
      "28/28 [==============================] - 195s 7s/step - loss: 0.1199 - accuracy: 0.9643 - val_loss: 0.2045 - val_accuracy: 0.6946 - lr: 1.0000e-05\n",
      "Epoch 00070: early stopping\n"
     ]
    }
   ],
   "source": [
    "optimizer = Adam(learning_rate=0.0001)\n",
    "siamese.compile(loss=utils.loss(1), optimizer=optimizer, metrics=[\"accuracy\"])\n",
    "# siamese.compile(loss='sparse_categorical_crossentropy', optimizer=optimizer, metrics=[\"accuracy\"])\n",
    "\n",
    "siamese.summary()\n",
    "history = siamese.fit([x_train_1, x_train_2],\n",
    "                      labels_train,\n",
    "                      validation_data=([x_val_1, x_val_2], labels_val),\n",
    "                      batch_size=1,\n",
    "                      epochs=epochs,  # 175 for contrastive 100 for cross ent\n",
    "                      callbacks=[checkpointer, early_stopping, reduce_lr]\n",
    "                      )\n",
    "# print()\n",
    "# Plot the accuracy\n",
    "# utils.plt_metric(history=history.history, metric=\"accuracy\", title=\"Model accuracy\")\n",
    "\n",
    "# Plot the constrastive loss\n",
    "# utils.plt_metric(history=history.history, metric=\"loss\", title=\"Constrastive Loss\")"
   ]
  },
  {
   "cell_type": "code",
   "execution_count": 13,
   "id": "a897dfe2",
   "metadata": {},
   "outputs": [
    {
     "name": "stdout",
     "output_type": "stream",
     "text": [
      "75/75 [==============================] - 158s 2s/step - loss: 0.1425 - accuracy: 0.8833\n",
      "test loss, test acc: [0.142543762922287, 0.8833333253860474]\n"
     ]
    }
   ],
   "source": [
    "results = siamese.evaluate([x_test_1, x_test_2], labels_test)\n",
    "print(\"test loss, test acc:\", results)"
   ]
  },
  {
   "cell_type": "code",
   "execution_count": 14,
   "id": "5020c970",
   "metadata": {
    "scrolled": true
   },
   "outputs": [
    {
     "name": "stdout",
     "output_type": "stream",
     "text": [
      "\n",
      "Evaluate on validation data\n",
      "Accuracy: 0.8833333333333333\n",
      "Precision: 0.9054054054054054\n",
      "Recall: 0.8833333333333333\n",
      "ROC AUC: 0.8833333333333333\n",
      "F1: 0.8817234581807941\n"
     ]
    }
   ],
   "source": [
    "Y_pred = siamese.predict([x_test_1, x_test_2]).squeeze()\n",
    "# 返回的是TRUE或FALSE,没有标签数据怎么知道他被分到哪儿个类中？\n",
    "y_pred = Y_pred > 0.5\n",
    "# x1,和x2是否匹配：匹配1，不匹配0\n",
    "y_test = labels_test\n",
    "print(\"\\nEvaluate on validation data\")\n",
    "Accuracy=accuracy_score(y_test, y_pred)\n",
    "Precision=precision_score(y_test, y_pred, average='weighted')\n",
    "Recall=recall_score(y_test, y_pred, average='weighted')\n",
    "ROC_AUC=roc_auc_score(y_test, y_pred, average='weighted')\n",
    "F1=f1_score(y_test, y_pred, average='weighted')\n",
    "print(\"Accuracy:\", Accuracy)\n",
    "print(\"Precision:\", Precision)\n",
    "print(\"Recall:\", Recall)\n",
    "print(\"ROC AUC:\", ROC_AUC)\n",
    "print(\"F1:\",F1 )"
   ]
  },
  {
   "cell_type": "code",
   "execution_count": 15,
   "id": "0bd41fa8",
   "metadata": {},
   "outputs": [],
   "source": [
    "y_pred = [1 if i else 0 for i in y_pred]\n",
    "pred_labels = []\n",
    "\n",
    "for i in range(0, len(y_pred)):\n",
    "    if y_pred[i] == 1:\n",
    "        pred_labels += [source_labels_test[i]]\n",
    "    else:\n",
    "        if source_labels_test[i] == 1:\n",
    "            pred_labels += [0.0]\n",
    "        else:\n",
    "            pred_labels += [1.0]\n",
    "a = x_test_1.tolist()\n",
    "df = pd.DataFrame({\"image\": a, \"label_{}\".format(teacher_id): pred_labels})\n",
    "if not os.path.exists(pre_results_path):\n",
    "    os.makedirs(pre_results_path)\n",
    "df.to_excel(os.path.join(pre_results_path,\"{}_{}_{}.xlsx\".format(epochs,teacher_id,shot)),index=False)"
   ]
  },
  {
   "cell_type": "code",
   "execution_count": 16,
   "id": "00ad007f",
   "metadata": {},
   "outputs": [
    {
     "data": {
      "image/png": "[encoded data removed]",
      "text/plain": [
       "<Figure size 432x288 with 2 Axes>"
      ]
     },
     "metadata": {
      "needs_background": "light"
     },
     "output_type": "display_data"
    },
    {
     "name": "stdout",
     "output_type": "stream",
     "text": [
      "Specificity: 1.0\n"
     ]
    }
   ],
   "source": [
    "cm = confusion_matrix(y_test, y_pred)\n",
    "cm_display = ConfusionMatrixDisplay(cm).plot()\n",
    "plt.show()\n",
    "tn, fp, fn, tp = cm.ravel()\n",
    "specificity = tn / (tn + fp)\n",
    "print(\"Specificity:\", specificity)\n",
    "data_list=[{\"Accuracy\":Accuracy,\"Precision\":Precision,\"Recall\":Recall,\"ROC_AUC\":ROC_AUC,\"tn\":tn,\"fp\":fp,\"fn\":fn,\"tp\":tp,\"specificity\":specificity}]\n",
    "df=pd.DataFrame(data_list)\n",
    "\n",
    "filepath=os.path.join(base_dir,r\"acc_{}_{}\".format(all_teachers,shot))\n",
    "if not os.path.exists(filepath):\n",
    "    os.mkdir(filepath)\n",
    "df.to_excel(os.path.join(filepath,\"{}_{}.xlsx\".format(teacher_id,shot)),index=False)\n",
    "tf.keras.backend.clear_session()"
   ]
  },
  {
   "cell_type": "code",
   "execution_count": null,
   "id": "7b7080bd",
   "metadata": {},
   "outputs": [],
   "source": []
  }
 ],
 "metadata": {
  "kernelspec": {
   "display_name": "Python 3",
   "language": "python",
   "name": "python3"
  },
  "language_info": {
   "codemirror_mode": {
    "name": "ipython",
    "version": 3
   },
   "file_extension": ".py",
   "mimetype": "text/x-python",
   "name": "python",
   "nbconvert_exporter": "python",
   "pygments_lexer": "ipython3",
   "version": "3.8.5"
  }
 },
 "nbformat": 4,
 "nbformat_minor": 5
}
